{
 "cells": [
  {
   "cell_type": "markdown",
   "id": "7bbf254d",
   "metadata": {},
   "source": [
    "# Energy calculations with F-SAC\n",
    "\n",
    "In this notebook, we use our SAC equations as the basis for F-SAC calculations.\n",
    "\n",
    "The F-SAC model uses the exact same SAC equations but with the compound segments defined by a group\n",
    "contribution method and interaction among groups as in the COSMO-SAC/RS models.\n",
    "\n",
    "The basic literature is:\n",
    " - [Functional-Segment Activity Coefficient model. 1. Model formulation](http://dx.doi.org/10.1021/ie400170a). Industrial & Engineering Chemistry Research, v. 52, p. 11159-11171, 2013.\n",
    " - [Functional-Segment Activity Coefficient model. 2. Associating mixtures](http://dx.doi.org/10.1021/ie4013979). Industrial & Engineering Chemistry Research, v. 52, p. 11172-11181, 2013.\n",
    "\n",
    "We start by importing the necessary packages."
   ]
  },
  {
   "cell_type": "code",
   "execution_count": 35,
   "id": "3f57911f",
   "metadata": {},
   "outputs": [],
   "source": [
    "import os, sys\n",
    "import matplotlib.pyplot as plt\n",
    "import pandas as pd\n",
    "\n",
    "parent_directory = os.path.dirname(os.path.abspath('.'))\n",
    "sys.path.append(parent_directory)\n",
    "\n",
    "from pysac import SAC"
   ]
  },
  {
   "cell_type": "markdown",
   "id": "2c848bfd",
   "metadata": {},
   "source": [
    "### Compound definitions\n",
    "\n",
    "In F-SAC, compounds are defined with just a few surface areas and their respective charge densities.\n",
    "\n",
    "Linear hydrocarbons are all neutral and polar compounds have a neutral, positive, and negative portions.\n",
    "\n",
    "Our first compound, **n-hexane**, can be represented by a single segment type, all neutral.\n",
    "For **acetone**, we have three segment types, neutral, positive, and negative."
   ]
  },
  {
   "cell_type": "code",
   "execution_count": 36,
   "id": "ef2e3471",
   "metadata": {},
   "outputs": [],
   "source": [
    "sigma_1 = [0.0]\n",
    "Q_1     = [191.93]\n",
    "\n",
    "sigma_2 = [0,      0.0132, -0.00363]\n",
    "Q_2     = [20.167, 21.97,  80.23]"
   ]
  },
  {
   "cell_type": "markdown",
   "id": "48dc0686",
   "metadata": {},
   "source": [
    "We can plot the sigma-profiles of these compounds if we want:"
   ]
  },
  {
   "cell_type": "code",
   "execution_count": 37,
   "id": "92c95132",
   "metadata": {},
   "outputs": [
    {
     "data": {
      "image/png": "[encoded data removed]",
      "text/plain": [
       "<Figure size 432x288 with 2 Axes>"
      ]
     },
     "metadata": {
      "needs_background": "light"
     },
     "output_type": "display_data"
    }
   ],
   "source": [
    "plt.subplot(1, 2, 1)\n",
    "plt.bar(sigma_1, Q_1, width = 0.002)\n",
    "plt.title(r'$n$-hexane')\n",
    "plt.xlabel(r'sigma [e/$\\AA^2$]')\n",
    "plt.ylabel(r'area [$\\AA^2$]')\n",
    "plt.ylim([0, 200])\n",
    "plt.xlim([-0.02, 0.02])\n",
    "\n",
    "plt.subplot(1, 2, 2)\n",
    "plt.bar(sigma_2, Q_2, width = 0.002)\n",
    "plt.title('acetone')\n",
    "plt.xlabel(r'sigma [e/$\\AA^2$]')\n",
    "plt.xlim([-0.02, 0.02])\n",
    "plt.ylim([0, 200])\n",
    "\n",
    "plt.rcParams.update({'font.size': 12})\n",
    "plt.savefig('pdf/f-sac-profiles.pdf')\n",
    "plt.show()"
   ]
  },
  {
   "cell_type": "markdown",
   "id": "8b473c56",
   "metadata": {},
   "source": [
    "## F-SAC implementation\n",
    "\n",
    "Now we implement the F-SAC model by deriving the basic `SAC` class and implementing the method calculating the interaction energies, `calc_u`."
   ]
  },
  {
   "cell_type": "code",
   "execution_count": 38,
   "id": "879b371a",
   "metadata": {},
   "outputs": [],
   "source": [
    "# F-SAC parameters\n",
    "alpha = 8544.6\n",
    "Q_eff = 3.597\n",
    "\n",
    "# The mixture area and sigma arrays\n",
    "Q = [Q_1, Q_2]\n",
    "sigma = [sigma_1, sigma_2]\n",
    "\n",
    "class FSACNonHB(SAC):\n",
    "    def __init__(self):\n",
    "        super().__init__(Q_eff=Q_eff)\n",
    "\n",
    "    def calc_u(self, T, i, j, m, n):\n",
    "        '''\n",
    "        Interaction energies, in this example we use only the electrostatic contribution, no hydrogen bonding.\n",
    "        '''\n",
    "        return (alpha/2)*(sigma[i][m]+sigma[j][n])**2\n",
    "\n",
    "# Create an instance of our F-SAC class\n",
    "sac = FSACNonHB()\n",
    "\n",
    "# Set a temperature and the areas of our compounds\n",
    "T = 318\n",
    "sac.set_compounds(Q)\n",
    "sac.set_temperature(T)"
   ]
  },
  {
   "cell_type": "markdown",
   "id": "4a07ab7d",
   "metadata": {},
   "source": [
    "## Interaction energies\n",
    "\n",
    "Since we already have the temperature set, we can get the interaction energies in `kcal/mol` among different segments of acetone (our second compound) that is stored at the `u[1][1]` variable:"
   ]
  },
  {
   "cell_type": "code",
   "execution_count": 44,
   "id": "68c1f9e8",
   "metadata": {},
   "outputs": [
    {
     "data": {
      "text/html": [
       "<div>\n",
       "<style scoped>\n",
       "    .dataframe tbody tr th:only-of-type {\n",
       "        vertical-align: middle;\n",
       "    }\n",
       "\n",
       "    .dataframe tbody tr th {\n",
       "        vertical-align: top;\n",
       "    }\n",
       "\n",
       "    .dataframe thead th {\n",
       "        text-align: right;\n",
       "    }\n",
       "</style>\n",
       "<table border=\"1\" class=\"dataframe\">\n",
       "  <thead>\n",
       "    <tr style=\"text-align: right;\">\n",
       "      <th></th>\n",
       "      <th>0</th>\n",
       "      <th>1</th>\n",
       "      <th>2</th>\n",
       "    </tr>\n",
       "  </thead>\n",
       "  <tbody>\n",
       "    <tr>\n",
       "      <th>0</th>\n",
       "      <td>0.000000</td>\n",
       "      <td>0.744406</td>\n",
       "      <td>0.056296</td>\n",
       "    </tr>\n",
       "    <tr>\n",
       "      <th>1</th>\n",
       "      <td>0.744406</td>\n",
       "      <td>2.977622</td>\n",
       "      <td>0.391278</td>\n",
       "    </tr>\n",
       "    <tr>\n",
       "      <th>2</th>\n",
       "      <td>0.056296</td>\n",
       "      <td>0.391278</td>\n",
       "      <td>0.225183</td>\n",
       "    </tr>\n",
       "  </tbody>\n",
       "</table>\n",
       "</div>"
      ],
      "text/plain": [
       "          0         1         2\n",
       "0  0.000000  0.744406  0.056296\n",
       "1  0.744406  2.977622  0.391278\n",
       "2  0.056296  0.391278  0.225183"
      ]
     },
     "execution_count": 44,
     "metadata": {},
     "output_type": "execute_result"
    }
   ],
   "source": [
    "pd.DataFrame(sac.u[1][1])"
   ]
  },
  {
   "cell_type": "markdown",
   "id": "ef6b62b0",
   "metadata": {},
   "source": [
    "Note that the interaction energy among neutral segments is zero. Also that the above matrix is simmetric.\n",
    "\n",
    "For the interaction energies among segments of *n*-hexane and acetone, it would be `u[0][1]`:"
   ]
  },
  {
   "cell_type": "code",
   "execution_count": 40,
   "id": "47df2e8d",
   "metadata": {},
   "outputs": [
    {
     "data": {
      "text/html": [
       "<div>\n",
       "<style scoped>\n",
       "    .dataframe tbody tr th:only-of-type {\n",
       "        vertical-align: middle;\n",
       "    }\n",
       "\n",
       "    .dataframe tbody tr th {\n",
       "        vertical-align: top;\n",
       "    }\n",
       "\n",
       "    .dataframe thead th {\n",
       "        text-align: right;\n",
       "    }\n",
       "</style>\n",
       "<table border=\"1\" class=\"dataframe\">\n",
       "  <thead>\n",
       "    <tr style=\"text-align: right;\">\n",
       "      <th></th>\n",
       "      <th>0</th>\n",
       "      <th>1</th>\n",
       "      <th>2</th>\n",
       "    </tr>\n",
       "  </thead>\n",
       "  <tbody>\n",
       "    <tr>\n",
       "      <th>0</th>\n",
       "      <td>0.0</td>\n",
       "      <td>0.744406</td>\n",
       "      <td>0.056296</td>\n",
       "    </tr>\n",
       "  </tbody>\n",
       "</table>\n",
       "</div>"
      ],
      "text/plain": [
       "     0         1         2\n",
       "0  0.0  0.744406  0.056296"
      ]
     },
     "execution_count": 40,
     "metadata": {},
     "output_type": "execute_result"
    }
   ],
   "source": [
    "pd.DataFrame(sac.u[0][1])"
   ]
  },
  {
   "cell_type": "markdown",
   "id": "873f3707",
   "metadata": {},
   "source": [
    "Note *n*-hexane has only one segment type and acetone has 3.\n",
    "The interaction energy of the *n*-hexane segment with the neutral part of acetone\n",
    "is zero while the other pairs have a nonzero interaction."
   ]
  },
  {
   "cell_type": "markdown",
   "id": "290c33a6",
   "metadata": {},
   "source": [
    "### Activity coefficients\n",
    "\n",
    "If we give the mixture molar composition, we can ask for the logarigthm of activity coefficients:"
   ]
  },
  {
   "cell_type": "code",
   "execution_count": 41,
   "id": "98db40eb",
   "metadata": {},
   "outputs": [
    {
     "data": {
      "text/plain": [
       "[0.5580331361206485, 0.2865821434475715]"
      ]
     },
     "execution_count": 41,
     "metadata": {},
     "output_type": "execute_result"
    }
   ],
   "source": [
    "x = [0.4, 0.6]\n",
    "sac.set_composition(x)\n",
    "sac.calc_ln_gamma()"
   ]
  },
  {
   "cell_type": "markdown",
   "id": "20b105e6",
   "metadata": {},
   "source": [
    "### Excess properties\n",
    "\n",
    "We can get the total internal and Helmholtz energies and subtract the pure values to get excess quantities. Additionally we can use standard thermodynamic relations to get the entropy."
   ]
  },
  {
   "cell_type": "code",
   "execution_count": 42,
   "id": "accaa9bb",
   "metadata": {},
   "outputs": [
    {
     "name": "stdout",
     "output_type": "stream",
     "text": [
      "ae/RT: 0.395162540516802\n",
      "ue/RT: 0.5008112267576204\n",
      "se/R: 0.10564868624081836\n"
     ]
    }
   ],
   "source": [
    "ue = sac.get_energy()\n",
    "ae = sac.get_helmholtz()\n",
    "for i in range(len(Q)):\n",
    "    ue -= x[i] * sac.get_energy_pure(i)\n",
    "    ae -= x[i] * sac.get_helmholtz_pure(i)\n",
    "\n",
    "se_R = ue - ae\n",
    "\n",
    "print(f\"ae/RT: {ae}\")\n",
    "print(f\"ue/RT: {ue}\")\n",
    "print(f\"se/R: {se_R}\")"
   ]
  },
  {
   "cell_type": "markdown",
   "id": "a4243509",
   "metadata": {},
   "source": [
    "We can also calculate the entropy by deriving the Helmholtz energy and then calculate back the energy. The values should match, within the accuracy of our finite differences derivative."
   ]
  },
  {
   "cell_type": "code",
   "execution_count": 43,
   "id": "6d008cdf",
   "metadata": {},
   "outputs": [
    {
     "name": "stdout",
     "output_type": "stream",
     "text": [
      "ue/RT (check): 0.5006243611516581\n",
      "se/R (check): 0.1054618206348561\n",
      "difference on ue/RT: -0.00018686560596226087\n",
      "difference on se/R: -0.00018686560596226087\n"
     ]
    }
   ],
   "source": [
    "dT = 0.1;\n",
    "T2 = T + dT\n",
    "sac.set_temperature(T2)\n",
    "sac.calc_ln_gamma()\n",
    "\n",
    "ae_T2 = sac.get_helmholtz()\n",
    "for i in range(len(Q)):\n",
    "    ae_T2 -= x[i] * sac.get_helmholtz_pure(i)\n",
    "\n",
    "se_R_check = -T*(ae_T2 - ae)/dT - ae;\n",
    "ue_check = ae + se_R_check\n",
    "\n",
    "print(f\"ue/RT (check): {ue_check}\")\n",
    "print(f\"se/R (check): {se_R_check}\")\n",
    "\n",
    "print(f\"difference on ue/RT: {ue_check-ue}\")\n",
    "print(f\"difference on se/R: {se_R_check-se_R}\")\n"
   ]
  }
 ],
 "metadata": {
  "kernelspec": {
   "display_name": "Python 3.8.10 64-bit",
   "language": "python",
   "name": "python3"
  },
  "language_info": {
   "codemirror_mode": {
    "name": "ipython",
    "version": 3
   },
   "file_extension": ".py",
   "mimetype": "text/x-python",
   "name": "python",
   "nbconvert_exporter": "python",
   "pygments_lexer": "ipython3",
   "version": "3.8.10"
  },
  "vscode": {
   "interpreter": {
    "hash": "916dbcbb3f70747c44a77c7bcd40155683ae19c65e1c03b4aa3499c5328201f1"
   }
  }
 },
 "nbformat": 4,
 "nbformat_minor": 5
}
