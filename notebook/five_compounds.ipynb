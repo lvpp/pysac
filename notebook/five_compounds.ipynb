{
 "cells": [
  {
   "cell_type": "markdown",
   "id": "a913ab17",
   "metadata": {},
   "source": [
    "## Nonrandom factors and activity coefficients for a five compound mixture\n",
    "\n",
    "In this notebook we calculate the nonrandom factors for an extremelly nonideal system of five compounds.\n",
    "This system was first investigated in a very interesting work by\n",
    "<a href=\"https://doi.org/10.1016/0378-3812(86)85065-8\">Larsen and Rasmussen (1986)</a>.\n",
    "\n",
    "We then compare activity coefficient and nonrandom factors calculated by SAC equations and the ones originally calculated\n",
    "based on quasi-chemical theory. We can see the values are in very close agreement.\n",
    "The very small differences observed are probably due to the numerical convergence tolerance or small differences in the\n",
    "gas constant assumed."
   ]
  },
  {
   "cell_type": "code",
   "execution_count": 1,
   "id": "3f57911f",
   "metadata": {},
   "outputs": [],
   "source": [
    "import math, os, sys\n",
    "import pandas as pd\n",
    "\n",
    "parent_directory = os.path.dirname(os.path.abspath('.'))\n",
    "sys.path.append(parent_directory)\n",
    "\n",
    "from pysac import SAC, RGAS, RGAS_SI"
   ]
  },
  {
   "cell_type": "markdown",
   "id": "2c848bfd",
   "metadata": {},
   "source": [
    "### Interaction energies\n",
    "\n",
    "Here we define the interaction energies for the possible pairs, as in the original work."
   ]
  },
  {
   "cell_type": "code",
   "execution_count": 2,
   "id": "879b371a",
   "metadata": {},
   "outputs": [],
   "source": [
    "# Interaction energies in kJ/mol as defined by Larsen and Rasmussen (1986), Table 1.\n",
    "# https://doi.org/10.1016/0378-3812(86)85065-8\n",
    "u = [[  0, -20, 20,   5, 30],\n",
    "     [-20,   0, 10, -30,  2],\n",
    "     [ 20,  10,  0,  20, 30],\n",
    "     [  5, -30, 20,   0, 10],\n",
    "     [ 30,   2, 30,   10, 0]\n",
    "     ]\n",
    "\n",
    "# Coordination number assumed in the original work\n",
    "z = 10\n",
    "\n",
    "class FiveCompounds(SAC):\n",
    "    def calc_u(self, T, i, j, m, n):\n",
    "        '''\n",
    "        Interaction energies converted to kcal/mol and divided by z to get it per contact\n",
    "        '''\n",
    "        return u[i][j] * (RGAS * 1000 / RGAS_SI) / z\n",
    "\n"
   ]
  },
  {
   "cell_type": "markdown",
   "id": "ab06a074",
   "metadata": {},
   "source": [
    "### Define the mixture and calculate the activity coefficients"
   ]
  },
  {
   "cell_type": "code",
   "execution_count": 3,
   "id": "3034beab",
   "metadata": {},
   "outputs": [
    {
     "data": {
      "text/html": [
       "<style  type=\"text/css\" >\n",
       "</style><table id=\"T_d8e126d2_0f8a_11ed_99a9_a55e092fddde\" ><caption>Activity coefficients calculated by Larsen and Rasmussen (1986) \n",
       "    using quasi-chemical equations and by our SAC equations.</caption><thead>    <tr>        <th class=\"blank level0\" ></th>        <th class=\"col_heading level0 col0\" >Larsen and Rasmussen</th>        <th class=\"col_heading level0 col1\" >SAC equations (this work)</th>    </tr></thead><tbody>\n",
       "                <tr>\n",
       "                        <th id=\"T_d8e126d2_0f8a_11ed_99a9_a55e092fdddelevel0_row0\" class=\"row_heading level0 row0\" >0</th>\n",
       "                        <td id=\"T_d8e126d2_0f8a_11ed_99a9_a55e092fddderow0_col0\" class=\"data row0 col0\" >4.2818</td>\n",
       "                        <td id=\"T_d8e126d2_0f8a_11ed_99a9_a55e092fddderow0_col1\" class=\"data row0 col1\" >4.28187</td>\n",
       "            </tr>\n",
       "            <tr>\n",
       "                        <th id=\"T_d8e126d2_0f8a_11ed_99a9_a55e092fdddelevel0_row1\" class=\"row_heading level0 row1\" >1</th>\n",
       "                        <td id=\"T_d8e126d2_0f8a_11ed_99a9_a55e092fddderow1_col0\" class=\"data row1 col0\" >0.0044</td>\n",
       "                        <td id=\"T_d8e126d2_0f8a_11ed_99a9_a55e092fddderow1_col1\" class=\"data row1 col1\" >0.00435669</td>\n",
       "            </tr>\n",
       "            <tr>\n",
       "                        <th id=\"T_d8e126d2_0f8a_11ed_99a9_a55e092fdddelevel0_row2\" class=\"row_heading level0 row2\" >2</th>\n",
       "                        <td id=\"T_d8e126d2_0f8a_11ed_99a9_a55e092fddderow2_col0\" class=\"data row2 col0\" >68.67</td>\n",
       "                        <td id=\"T_d8e126d2_0f8a_11ed_99a9_a55e092fddderow2_col1\" class=\"data row2 col1\" >68.6842</td>\n",
       "            </tr>\n",
       "            <tr>\n",
       "                        <th id=\"T_d8e126d2_0f8a_11ed_99a9_a55e092fdddelevel0_row3\" class=\"row_heading level0 row3\" >3</th>\n",
       "                        <td id=\"T_d8e126d2_0f8a_11ed_99a9_a55e092fddderow3_col0\" class=\"data row3 col0\" >0.4091</td>\n",
       "                        <td id=\"T_d8e126d2_0f8a_11ed_99a9_a55e092fddderow3_col1\" class=\"data row3 col1\" >0.409027</td>\n",
       "            </tr>\n",
       "            <tr>\n",
       "                        <th id=\"T_d8e126d2_0f8a_11ed_99a9_a55e092fdddelevel0_row4\" class=\"row_heading level0 row4\" >4</th>\n",
       "                        <td id=\"T_d8e126d2_0f8a_11ed_99a9_a55e092fddderow4_col0\" class=\"data row4 col0\" >45.67</td>\n",
       "                        <td id=\"T_d8e126d2_0f8a_11ed_99a9_a55e092fddderow4_col1\" class=\"data row4 col1\" >45.6775</td>\n",
       "            </tr>\n",
       "    </tbody></table>"
      ],
      "text/plain": [
       "<pandas.io.formats.style.Styler at 0x7f07d8f8dac0>"
      ]
     },
     "execution_count": 3,
     "metadata": {},
     "output_type": "execute_result"
    }
   ],
   "source": [
    "Q_eff = 1\n",
    "\n",
    "# Five compounds, all with z area\n",
    "Q = [[z*Q_eff], [z*Q_eff], [z*Q_eff], [z*Q_eff], [z*Q_eff]]\n",
    "\n",
    "T = 298.15\n",
    "x = [0.2, 0.2, 0.2, 0.2, 0.2]\n",
    "# Create an object with the example\n",
    "pairs = FiveCompounds(Q_eff=Q_eff)\n",
    "pairs.set_compounds(Q)\n",
    "pairs.set_temperature(T)\n",
    "pairs.set_composition(x)\n",
    "# Force updating all internal variables\n",
    "lnGamma = pairs.calc_ln_gamma()\n",
    "gamma = [math.exp(lnGammai) for lnGammai in lnGamma]\n",
    "\n",
    "# Activity coefficients calculated by Larsen and Rasmussen (Table 3 of their work)\n",
    "gammaLarsen = [4.2818, 0.0044, 68.67, 0.4091, 45.67]\n",
    "\n",
    "data = {'Larsen and Rasmussen': gammaLarsen, 'SAC equations (this work)': gamma}\n",
    "df = pd.DataFrame(data)\n",
    "df.style.set_caption('''Activity coefficients calculated by Larsen and Rasmussen (1986) \n",
    "    using quasi-chemical equations and by our SAC equations.''')"
   ]
  },
  {
   "cell_type": "markdown",
   "id": "441333ea",
   "metadata": {},
   "source": [
    "### Nonrandom factors compared to the original work\n",
    "\n",
    "We can also calculate the nonrandom factors for this system. This is how much a particular pair is more likely to happen in the mixture when compared to a completelly random solution.\n",
    "\n",
    "Below we can see that the SAC equation values match the ones reported by <a href=\"https://doi.org/10.1016/0378-3812(86)85065-8\">Larsen and Rasmussen (1986)</a> from quasi-chemical equations:\n",
    "```\n",
    "    1.3376, 1.5048, 0.7879, 0.8645, 0.5053\n",
    "    1.5048, 0.3372, 0.5922, 1.7810, 0.7850\n",
    "    0.7879, 0.5922, 2.3300, 0.6230, 0.6670\n",
    "    0.8645, 1.7810, 0.6230, 0.8363, 0.8953\n",
    "    0.5053, 0.7850, 0.6670, 0.8953, 2.1475\n",
    "```"
   ]
  },
  {
   "cell_type": "code",
   "execution_count": 4,
   "id": "f5e19175",
   "metadata": {},
   "outputs": [
    {
     "data": {
      "text/html": [
       "<style  type=\"text/css\" >\n",
       "</style><table id=\"T_d8e126d3_0f8a_11ed_99a9_a55e092fddde\" ><caption>Nonrandom factors calculated with SAC equations.</caption><thead>    <tr>        <th class=\"blank level0\" ></th>        <th class=\"col_heading level0 col0\" >0</th>        <th class=\"col_heading level0 col1\" >1</th>        <th class=\"col_heading level0 col2\" >2</th>        <th class=\"col_heading level0 col3\" >3</th>        <th class=\"col_heading level0 col4\" >4</th>    </tr></thead><tbody>\n",
       "                <tr>\n",
       "                        <th id=\"T_d8e126d3_0f8a_11ed_99a9_a55e092fdddelevel0_row0\" class=\"row_heading level0 row0\" >0</th>\n",
       "                        <td id=\"T_d8e126d3_0f8a_11ed_99a9_a55e092fddderow0_col0\" class=\"data row0 col0\" >1.3376</td>\n",
       "                        <td id=\"T_d8e126d3_0f8a_11ed_99a9_a55e092fddderow0_col1\" class=\"data row0 col1\" >1.50475</td>\n",
       "                        <td id=\"T_d8e126d3_0f8a_11ed_99a9_a55e092fddderow0_col2\" class=\"data row0 col2\" >0.787887</td>\n",
       "                        <td id=\"T_d8e126d3_0f8a_11ed_99a9_a55e092fddderow0_col3\" class=\"data row0 col3\" >0.864455</td>\n",
       "                        <td id=\"T_d8e126d3_0f8a_11ed_99a9_a55e092fddderow0_col4\" class=\"data row0 col4\" >0.505308</td>\n",
       "            </tr>\n",
       "            <tr>\n",
       "                        <th id=\"T_d8e126d3_0f8a_11ed_99a9_a55e092fdddelevel0_row1\" class=\"row_heading level0 row1\" >1</th>\n",
       "                        <td id=\"T_d8e126d3_0f8a_11ed_99a9_a55e092fddderow1_col0\" class=\"data row1 col0\" >1.50475</td>\n",
       "                        <td id=\"T_d8e126d3_0f8a_11ed_99a9_a55e092fddderow1_col1\" class=\"data row1 col1\" >0.337156</td>\n",
       "                        <td id=\"T_d8e126d3_0f8a_11ed_99a9_a55e092fddderow1_col2\" class=\"data row1 col2\" >0.592119</td>\n",
       "                        <td id=\"T_d8e126d3_0f8a_11ed_99a9_a55e092fddderow1_col3\" class=\"data row1 col3\" >1.78102</td>\n",
       "                        <td id=\"T_d8e126d3_0f8a_11ed_99a9_a55e092fddderow1_col4\" class=\"data row1 col4\" >0.78496</td>\n",
       "            </tr>\n",
       "            <tr>\n",
       "                        <th id=\"T_d8e126d3_0f8a_11ed_99a9_a55e092fdddelevel0_row2\" class=\"row_heading level0 row2\" >2</th>\n",
       "                        <td id=\"T_d8e126d3_0f8a_11ed_99a9_a55e092fddderow2_col0\" class=\"data row2 col0\" >0.787887</td>\n",
       "                        <td id=\"T_d8e126d3_0f8a_11ed_99a9_a55e092fddderow2_col1\" class=\"data row2 col1\" >0.592119</td>\n",
       "                        <td id=\"T_d8e126d3_0f8a_11ed_99a9_a55e092fddderow2_col2\" class=\"data row2 col2\" >2.33008</td>\n",
       "                        <td id=\"T_d8e126d3_0f8a_11ed_99a9_a55e092fddderow2_col3\" class=\"data row2 col3\" >0.622983</td>\n",
       "                        <td id=\"T_d8e126d3_0f8a_11ed_99a9_a55e092fddderow2_col4\" class=\"data row2 col4\" >0.666928</td>\n",
       "            </tr>\n",
       "            <tr>\n",
       "                        <th id=\"T_d8e126d3_0f8a_11ed_99a9_a55e092fdddelevel0_row3\" class=\"row_heading level0 row3\" >3</th>\n",
       "                        <td id=\"T_d8e126d3_0f8a_11ed_99a9_a55e092fddderow3_col0\" class=\"data row3 col0\" >0.864455</td>\n",
       "                        <td id=\"T_d8e126d3_0f8a_11ed_99a9_a55e092fddderow3_col1\" class=\"data row3 col1\" >1.78102</td>\n",
       "                        <td id=\"T_d8e126d3_0f8a_11ed_99a9_a55e092fddderow3_col2\" class=\"data row3 col2\" >0.622983</td>\n",
       "                        <td id=\"T_d8e126d3_0f8a_11ed_99a9_a55e092fddderow3_col3\" class=\"data row3 col3\" >0.836277</td>\n",
       "                        <td id=\"T_d8e126d3_0f8a_11ed_99a9_a55e092fddderow3_col4\" class=\"data row3 col4\" >0.895268</td>\n",
       "            </tr>\n",
       "            <tr>\n",
       "                        <th id=\"T_d8e126d3_0f8a_11ed_99a9_a55e092fdddelevel0_row4\" class=\"row_heading level0 row4\" >4</th>\n",
       "                        <td id=\"T_d8e126d3_0f8a_11ed_99a9_a55e092fddderow4_col0\" class=\"data row4 col0\" >0.505308</td>\n",
       "                        <td id=\"T_d8e126d3_0f8a_11ed_99a9_a55e092fddderow4_col1\" class=\"data row4 col1\" >0.78496</td>\n",
       "                        <td id=\"T_d8e126d3_0f8a_11ed_99a9_a55e092fddderow4_col2\" class=\"data row4 col2\" >0.666928</td>\n",
       "                        <td id=\"T_d8e126d3_0f8a_11ed_99a9_a55e092fddderow4_col3\" class=\"data row4 col3\" >0.895268</td>\n",
       "                        <td id=\"T_d8e126d3_0f8a_11ed_99a9_a55e092fddderow4_col4\" class=\"data row4 col4\" >2.14754</td>\n",
       "            </tr>\n",
       "    </tbody></table>"
      ],
      "text/plain": [
       "<pandas.io.formats.style.Styler at 0x7f08082d9fa0>"
      ]
     },
     "execution_count": 4,
     "metadata": {},
     "output_type": "execute_result"
    }
   ],
   "source": [
    "alpha = pairs.get_nonrandom()\n",
    "# put the array in a format we can display\n",
    "alphaij = [[0 for x in range(len(x))] for y in range(len(x))]\n",
    "for i in range(len(x)):\n",
    "    for j in range(len(x)):\n",
    "        alphaij[i][j] = alpha[i][j][0][0]\n",
    "\n",
    "df1 = pd.DataFrame(alphaij)\n",
    "df1.style.set_caption('''Nonrandom factors calculated with SAC equations.''')"
   ]
  }
 ],
 "metadata": {
  "kernelspec": {
   "display_name": "Python 3.8.10 64-bit",
   "language": "python",
   "name": "python3"
  },
  "language_info": {
   "codemirror_mode": {
    "name": "ipython",
    "version": 3
   },
   "file_extension": ".py",
   "mimetype": "text/x-python",
   "name": "python",
   "nbconvert_exporter": "python",
   "pygments_lexer": "ipython3",
   "version": "3.8.10"
  },
  "vscode": {
   "interpreter": {
    "hash": "916dbcbb3f70747c44a77c7bcd40155683ae19c65e1c03b4aa3499c5328201f1"
   }
  }
 },
 "nbformat": 4,
 "nbformat_minor": 5
}
