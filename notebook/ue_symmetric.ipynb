{
 "cells": [
  {
   "cell_type": "markdown",
   "id": "7bbf254d",
   "metadata": {},
   "source": [
    "# Energies for a symmetric monomer mixture\n",
    "\n",
    "In this document we compare the excess energies calculated by our `Pairwise` implementation with the ones obtained from Monte Carlo simulations (MC) from [Wu et al. (1998)](https://doi.org/10.1021/ie950503r).\n",
    "\n",
    "Since for the system investigated here the MC results are nearly very close to the AD model, this model is actually used in the comparisons.\n",
    "\n",
    "We start by importing the necessary packages."
   ]
  },
  {
   "cell_type": "code",
   "execution_count": 1,
   "id": "3f57911f",
   "metadata": {},
   "outputs": [],
   "source": [
    "import math, os, sys\n",
    "import matplotlib.pyplot as plt\n",
    "import pandas as pd\n",
    "\n",
    "parent_directory = os.path.dirname(os.path.abspath('.'))\n",
    "sys.path.append(parent_directory)\n",
    "\n",
    "from pysac import SAC, RGAS"
   ]
  },
  {
   "cell_type": "markdown",
   "id": "2c848bfd",
   "metadata": {},
   "source": [
    "### Compound definitions\n",
    "\n",
    "For the symmetric case, we set both compounds as having an unitary area such that area fractions match molar fractions. Additionally, in order to compare the results with the cubic lattice system we need to set `Q_eff = 1/z`.\n"
   ]
  },
  {
   "cell_type": "code",
   "execution_count": 2,
   "id": "ef2e3471",
   "metadata": {},
   "outputs": [],
   "source": [
    "Q_1   = [1]\n",
    "Q_2   = [1]\n",
    "\n",
    "z = 6\n",
    "Q_eff = 1/z\n",
    "\n",
    "# The mixture area\n",
    "Q = [Q_1, Q_2]"
   ]
  },
  {
   "cell_type": "markdown",
   "id": "8b473c56",
   "metadata": {},
   "source": [
    "## Interaction energies\n",
    "\n",
    "Here we study the case of a strongly non-ideal mixture, where the first compound (0-0) interaction is strongly attractive when compared to the others. We make the interaction energies temperature independent by evaluating them at a reference temperature `T0`."
   ]
  },
  {
   "cell_type": "code",
   "execution_count": 3,
   "id": "879b371a",
   "metadata": {},
   "outputs": [],
   "source": [
    "T0 = 300\n",
    "\n",
    "class MonomerStronglyNonIdeal(SAC):\n",
    "    def __init__(self):\n",
    "        super().__init__(Q_eff=Q_eff)\n",
    "\n",
    "    def calc_u(self, T, i, j, m, n):\n",
    "        if i == 0 and j == 0:\n",
    "            return -0.65 * RGAS * T0\n",
    "        if i == 1 and j == 1:\n",
    "            return -0.1 * RGAS * T0\n",
    "        \n",
    "        return -0.2 * RGAS * T0\n",
    "\n",
    "# Create an instance of our F-SAC class\n",
    "sac = MonomerStronglyNonIdeal()\n",
    "\n",
    "# Set a temperature, we use the reference `T0` so we get the same\n",
    "# results as in the original work.\n",
    "T = T0\n",
    "sac.set_compounds(Q)\n",
    "sac.set_temperature(T)"
   ]
  },
  {
   "cell_type": "markdown",
   "id": "b1d62130",
   "metadata": {},
   "source": [
    "### Excess properties\n",
    "\n",
    "Here we calculate the excess Helmholtz and internal energy on multiple compositions. For the UNIQUAC model we use adjusted parameters so that the Helmholtz excess energy of both models match.\n",
    "\n",
    "In the [ue_symmetric_direct](./ue_symmetric_direct.ipynb) notepad we assume the UNIQUAC interaction energies can be calculated directly from the pair contact energies as in [Wu et al. (1998)](https://doi.org/10.1021/ie950503r). In that case much worse UNIQUAC results are obtained."
   ]
  },
  {
   "cell_type": "code",
   "execution_count": 4,
   "id": "6d008cdf",
   "metadata": {},
   "outputs": [
    {
     "data": {
      "image/png": "[encoded data removed]",
      "text/plain": [
       "<Figure size 432x288 with 1 Axes>"
      ]
     },
     "metadata": {
      "needs_background": "light"
     },
     "output_type": "display_data"
    }
   ],
   "source": [
    "N = 51\n",
    "ue_pw = []\n",
    "ae_pw = []\n",
    "\n",
    "ue_wil = []\n",
    "ae_wil = []\n",
    "x1 = []\n",
    "\n",
    "# UNIQUAC parameters so that the Helmholtz of both models match\n",
    "Lambda = [[1, 0.555], [0.555, 1]]\n",
    "\n",
    "for l in range(N):\n",
    "    x1_ = l/(N-1)\n",
    "    x1.append(x1_)\n",
    "\n",
    "    x = [x1_, 1-x1_]\n",
    "    \n",
    "    sac.set_composition(x)\n",
    "    sac.calc_ln_gamma()\n",
    "\n",
    "    ae_pw_ = sac.get_helmholtz()\n",
    "    ue_pw_ = sac.get_energy()\n",
    "\n",
    "    ue_wil_ = 0.0\n",
    "    ae_wil_ = 0.0\n",
    "\n",
    "    sum_ni_qi = 0.0\n",
    "    for i in range(len(x)):\n",
    "        sum_thetaj_Lambdaij = 0\n",
    "        sum_thetaj_epsij_Lambdaij = 0\n",
    "        sum_thetaj_Lambdaij = 0\n",
    "        \n",
    "        epsii = -math.log(sac.psi[i][i][0][0])\n",
    "\n",
    "        for j in range(len(x)):\n",
    "            Lambdaij = Lambda[i][j]\n",
    "            epsij = -math.log(Lambdaij)\n",
    "\n",
    "            sum_thetaj_Lambdaij += sac.theta[j][0] * Lambdaij\n",
    "            \n",
    "            sum_thetaj_epsij_Lambdaij += sac.theta[j][0] * epsij * Lambdaij\n",
    "            \n",
    "        ue_wil_ += Q[i][0]*x[i] * sum_thetaj_epsij_Lambdaij / sum_thetaj_Lambdaij\n",
    "        ae_wil_ -= Q[i][0]*x[i] * math.log(sum_thetaj_Lambdaij)\n",
    "\n",
    "    # subtract the pure compound energies to get the excess\n",
    "    for i in range(len(x)):\n",
    "        ue_pw_ -= x[i]*sac.get_energy_pure(i)\n",
    "        ae_pw_ -= x[i]*sac.get_helmholtz_pure(i)\n",
    "    \n",
    "    ae_pw.append(ae_pw_)\n",
    "    ue_pw.append(ue_pw_)\n",
    "    ue_wil.append(ue_wil_)\n",
    "    ae_wil.append(ae_wil_)\n",
    "\n",
    "plt.plot(x1, ue_pw, 'k-', label=r'$u$ SAC')\n",
    "plt.plot(x1, ue_wil, 'g-', label=r'$u$ UNIQUAC')\n",
    "plt.plot(x1, ae_pw, 'k:', label=r'$a$  SAC')\n",
    "plt.plot(x1, ae_wil, 'g:', label=r'$a$  UNIQUAC')\n",
    "\n",
    "plt.legend(loc='upper right')\n",
    "plt.xlabel(r'$x_1$')\n",
    "plt.ylabel(r'excess energy/RT')\n",
    "plt.xlim([0, 1])\n",
    "plt.ylim([0, 0.3])\n",
    "\n",
    "plt.rcParams.update({'font.size': 14})\n",
    "plt.plot()\n",
    "plt.savefig('pdf/ue-excess.pdf')"
   ]
  },
  {
   "cell_type": "code",
   "execution_count": null,
   "id": "8baf968a",
   "metadata": {},
   "outputs": [],
   "source": []
  }
 ],
 "metadata": {
  "kernelspec": {
   "display_name": "Python 3.8.10 64-bit",
   "language": "python",
   "name": "python3"
  },
  "language_info": {
   "codemirror_mode": {
    "name": "ipython",
    "version": 3
   },
   "file_extension": ".py",
   "mimetype": "text/x-python",
   "name": "python",
   "nbconvert_exporter": "python",
   "pygments_lexer": "ipython3",
   "version": "3.8.10"
  },
  "vscode": {
   "interpreter": {
    "hash": "916dbcbb3f70747c44a77c7bcd40155683ae19c65e1c03b4aa3499c5328201f1"
   }
  }
 },
 "nbformat": 4,
 "nbformat_minor": 5
}
