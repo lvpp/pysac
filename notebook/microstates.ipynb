{
 "cells": [
  {
   "cell_type": "markdown",
   "id": "581258c8",
   "metadata": {},
   "source": [
    "# Microstates for 2 and 4 segments\n",
    "\n",
    "In this notebook we list all possible microstates for the cases of 2 and 4 segments interaction in pairs.\n",
    "\n",
    "First we import the relevant methods:"
   ]
  },
  {
   "cell_type": "code",
   "execution_count": 1,
   "id": "3f57911f",
   "metadata": {},
   "outputs": [],
   "source": [
    "import os, sys\n",
    "\n",
    "parent_directory = os.path.dirname(os.path.abspath('.'))\n",
    "sys.path.append(parent_directory)\n",
    "\n",
    "from pairs import all_pairs, print_states"
   ]
  },
  {
   "cell_type": "markdown",
   "id": "ae19a0d3",
   "metadata": {},
   "source": [
    "### List all states for the case of N=2."
   ]
  },
  {
   "cell_type": "code",
   "execution_count": 9,
   "id": "d43b00f5",
   "metadata": {},
   "outputs": [
    {
     "name": "stdout",
     "output_type": "stream",
     "text": [
      "List of segments considered: [1, 2]\n",
      "Possible microstates for pairwise interaction (different configurations):\n",
      "  [1-2] [2-1]\n",
      "Number of microstates (N!): 2\n"
     ]
    }
   ],
   "source": [
    "N = 2\n",
    "x = list(range(1,N+1,1))\n",
    "states = all_pairs(x)\n",
    "\n",
    "print(f\"List of segments considered: {x}\")\n",
    "print(\"Possible microstates for pairwise interaction (different configurations):\")\n",
    "nstates = print_states(states, N)\n",
    "print(f'Number of microstates (N!): {nstates}')"
   ]
  },
  {
   "cell_type": "markdown",
   "id": "6a816a6d",
   "metadata": {},
   "source": [
    "### List all states for the case of N=4."
   ]
  },
  {
   "cell_type": "code",
   "execution_count": 10,
   "id": "d0f0b41c",
   "metadata": {},
   "outputs": [
    {
     "name": "stdout",
     "output_type": "stream",
     "text": [
      "List of segments considered: [1, 2, 3, 4]\n",
      "Possible microstates for pairwise interaction (different configurations):\n",
      "  [1-2, 3-4] [1-2, 4-3] [1-3, 2-4] [1-3, 4-2]\n",
      "  [1-4, 2-3] [1-4, 3-2] [2-1, 3-4] [2-1, 4-3]\n",
      "  [2-3, 1-4] [2-3, 4-1] [2-4, 1-3] [2-4, 3-1]\n",
      "  [3-1, 2-4] [3-1, 4-2] [3-2, 1-4] [3-2, 4-1]\n",
      "  [3-4, 1-2] [3-4, 2-1] [4-1, 2-3] [4-1, 3-2]\n",
      "  [4-2, 1-3] [4-2, 3-1] [4-3, 1-2] [4-3, 2-1]\n",
      "Number of microstates (N!): 24\n"
     ]
    }
   ],
   "source": [
    "N = 4\n",
    "x = list(range(1,N+1,1))\n",
    "states = all_pairs(x)\n",
    "\n",
    "print(f\"List of segments considered: {x}\")\n",
    "print(\"Possible microstates for pairwise interaction (different configurations):\")\n",
    "nstates = print_states(states, N)\n",
    "print(f'Number of microstates (N!): {nstates}')"
   ]
  }
 ],
 "metadata": {
  "kernelspec": {
   "display_name": "Python 3.8.10 64-bit",
   "language": "python",
   "name": "python3"
  },
  "language_info": {
   "codemirror_mode": {
    "name": "ipython",
    "version": 3
   },
   "file_extension": ".py",
   "mimetype": "text/x-python",
   "name": "python",
   "nbconvert_exporter": "python",
   "pygments_lexer": "ipython3",
   "version": "3.8.10"
  },
  "vscode": {
   "interpreter": {
    "hash": "916dbcbb3f70747c44a77c7bcd40155683ae19c65e1c03b4aa3499c5328201f1"
   }
  }
 },
 "nbformat": 4,
 "nbformat_minor": 5
}
