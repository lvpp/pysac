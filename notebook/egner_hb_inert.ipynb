{
 "cells": [
  {
   "attachments": {},
   "cell_type": "markdown",
   "id": "7bbf254d",
   "metadata": {},
   "source": [
    "# Excess properties for a HB-inert mixture\n",
    "\n",
    "In this document we compare the excess properties calculated by our `SAC` implementation for a hydrogen bonding (HB)-inert system. The pair interaction energies are the same as given by [Egner et al. (1997)](https://doi.org/10.1002/bbpc.19971010208).\n",
    "\n",
    "We start by importing the necessary packages."
   ]
  },
  {
   "cell_type": "code",
   "execution_count": 21,
   "id": "3f57911f",
   "metadata": {},
   "outputs": [],
   "source": [
    "import math, os, sys\n",
    "import matplotlib.pyplot as plt\n",
    "import pandas as pd\n",
    "\n",
    "parent_directory = os.path.dirname(os.path.abspath('.'))\n",
    "sys.path.append(parent_directory)\n",
    "\n",
    "from pysac import SAC, RGAS, RGAS_SI, DEFAULT_Q_EFF"
   ]
  },
  {
   "attachments": {},
   "cell_type": "markdown",
   "id": "2c848bfd",
   "metadata": {},
   "source": [
    "## Compound definitions\n",
    "\n",
    "Ther original article considered a simple-cubic lattice (z = 6). Then, in order to compare the results with the cubic lattice system we need to set the areas accordingly.\n"
   ]
  },
  {
   "cell_type": "code",
   "execution_count": 22,
   "id": "ef2e3471",
   "metadata": {},
   "outputs": [],
   "source": [
    "Q_eff = DEFAULT_Q_EFF;\n",
    "Q_1   = [4*Q_eff, Q_eff, Q_eff]\n",
    "Q_2   = [6*Q_eff]\n",
    "\n",
    "# The mixture area\n",
    "Q = [Q_1, Q_2]\n",
    "nu = 6"
   ]
  },
  {
   "attachments": {},
   "cell_type": "markdown",
   "id": "8b473c56",
   "metadata": {},
   "source": [
    "## Interaction energies\n",
    "\n",
    "There is one hydrogen-bonding (HB) compound. For this compound there is an inert area and two hydrogen bonding sites (donor and acceptor). The donor-acceptor pair has a high attractive (negative) interaction energy. For donor-donor or acceptor-acceptor pairs, the interaction energy is positive. All other contacts with inert surface segments have zero interaction energy."
   ]
  },
  {
   "cell_type": "code",
   "execution_count": 23,
   "id": "879b371a",
   "metadata": {},
   "outputs": [],
   "source": [
    "T0 = 300\n",
    "\n",
    "class EgnerHBInert(SAC):\n",
    "    def __init__(self):\n",
    "        super().__init__(Q_eff=Q_eff, tol=1e-10)\n",
    "\n",
    "    # Interaction energies according to Table 3 of the original article\n",
    "    def calc_u(self, T, i, j, m, n):\n",
    "        if i == 1 or j == 1:\n",
    "            # no interaction with the inert compound\n",
    "            return 0\n",
    "        if m == 0 or n == 0:\n",
    "            # no interaction with the neutral/inert part of the molecules\n",
    "            return 0\n",
    "        if (m == n):\n",
    "            # e11 and e22, repulsive interaction\n",
    "            return 340 * RGAS\n",
    "        \n",
    "        # e12 and e21, very strong negative (attractive, hydrogen bond)\n",
    "        return -1250 * RGAS\n",
    "\n",
    "# Create an instance of our SAC class\n",
    "sac = EgnerHBInert()\n",
    "\n",
    "# Set a temperature, we use the reference `T0` so we get the same\n",
    "# results as in the original work.\n",
    "T = T0\n",
    "sac.set_compounds(Q)\n",
    "sac.set_temperature(T)"
   ]
  },
  {
   "attachments": {},
   "cell_type": "markdown",
   "id": "b1d62130",
   "metadata": {},
   "source": [
    "## Excess properties\n",
    "\n",
    "Here we calculate the excess properties on multiple compositions and compare our results with Monte-Carlo simulations from the original work."
   ]
  },
  {
   "cell_type": "code",
   "execution_count": 24,
   "id": "6d008cdf",
   "metadata": {},
   "outputs": [
    {
     "data": {
      "image/png": "[encoded data removed]",
      "text/plain": [
       "<Figure size 432x288 with 1 Axes>"
      ]
     },
     "metadata": {
      "needs_background": "light"
     },
     "output_type": "display_data"
    }
   ],
   "source": [
    "N = 51\n",
    "ue = []\n",
    "ae = []\n",
    "tse = []\n",
    "\n",
    "# Monte-Carlo data from Fig. 6 (image recognition) of the original work\n",
    "x1_exp = [0.05, 0.1, 0.2, 0.3, 0.4, 0.5, 0.6, 0.7, 0.8, 0.9, 0.95]\n",
    "ge_exp = [201.1, 344.9, 548.0, 652.9, 691.4, 677.4, 614.4, 516.5, 372.7, 197.8, 103.3]\n",
    "he_exp = [257.5, 383.5, 533.9, 582.9, 575.8, 523.6, 460.6, 372.7, 271.2, 145.2, 68.1]\n",
    "tse_exp = [54.38, 29.55, -22.70, -75.32, -117.20, -162.79, -159.45, -145.37, -106.83, -57.91, -36.78]\n",
    "\n",
    "x1 = []\n",
    "\n",
    "for l in range(N):\n",
    "    x1_ = l/(N-1)\n",
    "    x1.append(x1_)\n",
    "\n",
    "    x = [x1_, 1-x1_]\n",
    "    \n",
    "    sac.set_composition(x)\n",
    "    sac.calc_ln_gamma()\n",
    "\n",
    "    ae_ = sac.get_helmholtz()\n",
    "    ue_ = sac.get_energy()\n",
    "    se_ = sac.get_entropy()\n",
    "\n",
    "    alpha = sac.get_nonrandom()\n",
    "\n",
    "    # subtract the pure compound energies to get the excess\n",
    "    for i in range(len(x)):\n",
    "        ue_ -= x[i]*sac.get_energy_pure(i)\n",
    "        ae_ -= x[i]*sac.get_helmholtz_pure(i)\n",
    "        se_ -= x[i]*sac.get_entropy_pure(i)\n",
    "    \n",
    "    ae.append(ae_ * RGAS_SI * T)\n",
    "    ue.append(ue_ * RGAS_SI * T)\n",
    "    tse.append(se_ * RGAS_SI * T)\n",
    "\n",
    "plt.plot(x1_exp, ge_exp, 'ks')\n",
    "plt.plot(x1_exp, he_exp, 'rs')\n",
    "plt.plot(x1_exp, tse_exp, 'bs')\n",
    "plt.plot(x1, ae, 'k-', label=r'$g^E$')\n",
    "plt.plot(x1, ue, 'r-', label=r'$h^E$')\n",
    "plt.plot(x1, tse, 'b-', label=r'$Ts^E$')\n",
    "\n",
    "plt.legend(loc='upper right')\n",
    "plt.xlabel(r'$x_1$')\n",
    "plt.ylabel(r'excess property [J/mol]')\n",
    "plt.xlim([0, 1])\n",
    "\n",
    "plt.rcParams.update({'font.size': 16})\n",
    "plt.tight_layout()\n",
    "plt.plot()\n",
    "plt.savefig('pdf/egner_hb_inert.pdf')"
   ]
  },
  {
   "cell_type": "markdown",
   "id": "760a6eb9",
   "metadata": {},
   "source": [
    "### Small positive excess entropy for diluted compound 1\n",
    "\n",
    "Preferential contacts generate negative contributions to the residual entropy.\n",
    "\n",
    "For the present case, the HB compound has great order (nonrandomness) when pure. Compound 2 has no preferential interactions when pure, so zero residual entropy."
   ]
  },
  {
   "cell_type": "code",
   "execution_count": 25,
   "id": "8baf968a",
   "metadata": {},
   "outputs": [
    {
     "name": "stdout",
     "output_type": "stream",
     "text": [
      "0.05 mols of pure compound 1, T*s [J]:  -155.95523180207562\n",
      "0.95 mols of pure compound 2, T*s [J]:  0.0\n",
      "5% compound 1 mixture, T*s [J/mol]:  -100.94217861517205\n",
      "5% compound 1 mixture, excess T*s [J/mol]:  55.013053186903555\n"
     ]
    }
   ],
   "source": [
    "x = [0.05, 0.95]\n",
    "sac.set_composition(x)\n",
    "sac.calc_ln_gamma()\n",
    "\n",
    "print(\"0.05 mols of pure compound 1, T*s [J]: \", x[0]*sac.get_entropy_pure(0) * RGAS_SI*T)\n",
    "print(\"0.95 mols of pure compound 2, T*s [J]: \", x[1]*sac.get_entropy_pure(1) * RGAS_SI*T)\n",
    "print(\"5% compound 1 mixture, T*s [J/mol]: \", sac.get_entropy() * RGAS_SI*T)\n",
    "print(\"5% compound 1 mixture, excess T*s [J/mol]: \", (sac.get_entropy()-x[0]*sac.get_entropy_pure(0)-x[1]*sac.get_entropy_pure(1)) * RGAS_SI*T)"
   ]
  },
  {
   "cell_type": "markdown",
   "id": "247747f2",
   "metadata": {},
   "source": [
    "The pair contact residual entropy contributions for a HB pure compound are more complex than for a simple polar compound. There are the HB pairs (2-3 and 3-2) which are the more likely, with the largest negative contribution. However, this preferential pair has a smaller surface area. There are many repulsive pairs, with positive residual entropy contributions. This makes the neutral/inert pair (1-1) to be contribute as the second more negative term."
   ]
  },
  {
   "cell_type": "code",
   "execution_count": 26,
   "id": "d65858fe",
   "metadata": {},
   "outputs": [
    {
     "name": "stdout",
     "output_type": "stream",
     "text": [
      "Entropy terms (times T) for 0.05 mols of pure compound 1 [J]:\n",
      "segments 1-1: -65.90477003193477\n",
      "segments 1-2: 15.118191835409878\n",
      "segments 1-3: 15.118189252596402\n",
      "segments 2-1: 15.118191835409878\n",
      "segments 2-2: 0.918095760010282\n",
      "segments 2-3: -76.17970689791036\n",
      "segments 3-1: 15.118189252596402\n",
      "segments 3-2: -76.17970689791036\n",
      "segments 3-3: 0.9180940896570748\n"
     ]
    }
   ],
   "source": [
    "print(\"Entropy terms (times T) for 0.05 mols of pure compound 1 [J]:\")\n",
    "i = j = 0\n",
    "alpha = sac.get_nonrandom_pure(i)\n",
    "theta_i = sac.theta_pure[i]\n",
    "seg_gamma_i = sac.seg_gamma_pure[i]\n",
    "theta_j = sac.theta_pure[j]\n",
    "seg_gamma_j = sac.seg_gamma_pure[j]\n",
    "psi_ij = sac.psi[i][j]\n",
    "for m in range(len(theta_i)):\n",
    "    for n in range(len(theta_j)):\n",
    "        alpha_mn = seg_gamma_i[m] * seg_gamma_j[n] * psi_ij[m][n]\n",
    "        si = -nu/2 * theta_i[m]*theta_j[n] * alpha_mn * (math.log(alpha_mn)) * RGAS_SI*T\n",
    "\n",
    "        print(f\"segments {m+1}-{n+1}: {x[0]*si}\")"
   ]
  },
  {
   "cell_type": "markdown",
   "id": "c5891fea",
   "metadata": {},
   "source": [
    "In a diluted mixture of compound 1, the strong negative entropy for the 1-1 pair (neutral pair) vanishes. This is because this pair has now more neutrals pairs to interact with (from compound 2). Surprisingly, this is the dominant effect in this case. The HB pair negative contribution is only slightly reduced in this mixture."
   ]
  },
  {
   "cell_type": "code",
   "execution_count": 27,
   "id": "6f617689",
   "metadata": {},
   "outputs": [
    {
     "name": "stdout",
     "output_type": "stream",
     "text": [
      "\n",
      "Entropy terms (times T) for a mixture with 0.05 mols of compound 1 [J]:\n",
      "Compounds: 1-1\n",
      "segments 1-1: -0.03848659074182976\n",
      "segments 1-2: 0.4810559621008883\n",
      "segments 1-3: 0.4810559570537739\n",
      "segments 2-1: 0.4810559621008883\n",
      "segments 2-2: 0.156386740664218\n",
      "segments 2-3: -62.263299908354014\n",
      "segments 3-1: 0.4810559570537739\n",
      "segments 3-2: -62.263299908354014\n",
      "segments 3-3: 0.15638674133221056\n",
      "Compounds: 1-2\n",
      "segments 1-1: -1.0968678347555083\n",
      "segments 2-1: 13.71009492004571\n",
      "segments 3-1: 13.710094776202954\n",
      "Compounds: 2-1\n",
      "segments 1-1: -1.096867834755508\n",
      "segments 1-2: 13.71009492004571\n",
      "segments 1-3: 13.710094776202954\n",
      "Compounds: 2-2\n",
      "segments 1-1: -31.260733251014248\n"
     ]
    }
   ],
   "source": [
    "print(\"\\nEntropy terms (times T) for a mixture with 0.05 mols of compound 1 [J]:\")\n",
    "alpha = sac.get_nonrandom()\n",
    "for i in range(sac.ncomps):\n",
    "    theta_i = sac.theta[i]\n",
    "    seg_gamma_i = sac.seg_gamma[i]\n",
    "\n",
    "    for j in range(sac.ncomps):\n",
    "        theta_j = sac.theta[j]\n",
    "        seg_gamma_j = sac.seg_gamma[j]\n",
    "\n",
    "        psi_ij = sac.psi[i][j]\n",
    "\n",
    "        print(f\"Compounds: {i+1}-{j+1}\")\n",
    "\n",
    "        for m in range(len(theta_i)):\n",
    "            for n in range(len(theta_j)):\n",
    "                alpha = seg_gamma_i[m] * seg_gamma_j[n] * psi_ij[m][n]\n",
    "                si = -nu/2 * theta_i[m]*theta_j[n] * alpha * (math.log(alpha)) * RGAS_SI*T\n",
    "\n",
    "                print(f\"segments {m+1}-{n+1}: {si}\")"
   ]
  },
  {
   "cell_type": "markdown",
   "id": "c6ed58b1",
   "metadata": {},
   "source": [
    "### Negative excess entropy for an equimolar mixture\n",
    "\n",
    "For an equimolar mixture there is even more order in mixture than in pure compounds. Producing a negative excess entropy."
   ]
  },
  {
   "cell_type": "code",
   "execution_count": 28,
   "id": "4bd924f8",
   "metadata": {},
   "outputs": [
    {
     "name": "stdout",
     "output_type": "stream",
     "text": [
      "0.5 mols of pure compound 1, T*s [J]:  -1559.5523180207563\n",
      "0.5 mols of pure compound 2, T*s [J]:  0.0\n",
      "Equimolar mixture, T*s [J/mol]:  -1694.9715264791241\n",
      "Equimolar mixture, excess T*s [J/mol]:  -135.41920845836796\n"
     ]
    }
   ],
   "source": [
    "x = [0.5, 0.5]\n",
    "sac.set_composition(x)\n",
    "sac.calc_ln_gamma()\n",
    "\n",
    "print(\"0.5 mols of pure compound 1, T*s [J]: \", 0.5*sac.get_entropy_pure(0) * RGAS_SI*T)\n",
    "print(\"0.5 mols of pure compound 2, T*s [J]: \", 0.5*sac.get_entropy_pure(1) * RGAS_SI*T)\n",
    "print(\"Equimolar mixture, T*s [J/mol]: \", sac.get_entropy() * RGAS_SI*T)\n",
    "print(\"Equimolar mixture, excess T*s [J/mol]: \", (sac.get_entropy()-x[0]*sac.get_entropy_pure(0)-x[1]*sac.get_entropy_pure(1)) * RGAS_SI*T)"
   ]
  },
  {
   "cell_type": "code",
   "execution_count": 29,
   "id": "630d1034",
   "metadata": {},
   "outputs": [
    {
     "name": "stdout",
     "output_type": "stream",
     "text": [
      "Entropy terms (times T) for 0.5 mols of pure compound 1 [J]:\n",
      "segments 1-1: -659.0477003193478\n",
      "segments 1-2: 151.18191835409877\n",
      "segments 1-3: 151.181892525964\n",
      "segments 2-1: 151.18191835409877\n",
      "segments 2-2: 9.18095760010282\n",
      "segments 2-3: -761.7970689791036\n",
      "segments 3-1: 151.181892525964\n",
      "segments 3-2: -761.7970689791036\n",
      "segments 3-3: 9.180940896570748\n"
     ]
    }
   ],
   "source": [
    "print(\"Entropy terms (times T) for 0.5 mols of pure compound 1 [J]:\")\n",
    "i = j = 0\n",
    "alpha = sac.get_nonrandom_pure(i)\n",
    "theta_i = sac.theta_pure[i]\n",
    "seg_gamma_i = sac.seg_gamma_pure[i]\n",
    "theta_j = sac.theta_pure[j]\n",
    "seg_gamma_j = sac.seg_gamma_pure[j]\n",
    "psi_ij = sac.psi[i][j]\n",
    "for m in range(len(theta_i)):\n",
    "    for n in range(len(theta_j)):\n",
    "        alpha_mn = seg_gamma_i[m] * seg_gamma_j[n] * psi_ij[m][n]\n",
    "        si = -nu/2 * theta_i[m]*theta_j[n] * alpha_mn * (math.log(alpha_mn)) * RGAS_SI*T\n",
    "\n",
    "        print(f\"segments {m+1}-{n+1}: {x[0]*si}\")"
   ]
  },
  {
   "cell_type": "markdown",
   "id": "04d8533c",
   "metadata": {},
   "source": [
    "As the molar fraction of compound 1 increases, the negative entropy contribution of HB pairs (2-3 and 3-2) grow. The preferential for neutral pairs (1-1) also contributes to a negative entropy. These effects make the excess entropy negative in this case."
   ]
  },
  {
   "cell_type": "code",
   "execution_count": 30,
   "id": "149fa638",
   "metadata": {},
   "outputs": [
    {
     "name": "stdout",
     "output_type": "stream",
     "text": [
      "\n",
      "Entropy terms (times T) for 0.5 mols of each compound [J]:\n",
      "Compounds: 1-1\n",
      "segments 1-1: -109.67250692840838\n",
      "segments 1-2: 76.4410694356813\n",
      "segments 1-3: 76.44106902464581\n",
      "segments 2-1: 76.4410694356813\n",
      "segments 2-2: 6.787517992015761\n",
      "segments 2-3: -893.7520444756349\n",
      "segments 3-1: 76.44106902464581\n",
      "segments 3-2: -893.7520444756349\n",
      "segments 3-3: 6.787519848997358\n",
      "Compounds: 1-2\n",
      "segments 1-1: -164.50876026640236\n",
      "segments 2-1: 114.66160415377148\n",
      "segments 3-1: 114.66160353721826\n",
      "Compounds: 2-1\n",
      "segments 1-1: -164.50876026640236\n",
      "segments 1-2: 114.66160415377148\n",
      "segments 1-3: 114.66160353721826\n",
      "Compounds: 2-2\n",
      "segments 1-1: -246.7631402102877\n"
     ]
    }
   ],
   "source": [
    "print(\"\\nEntropy terms (times T) for 0.5 mols of each compound [J]:\")\n",
    "alpha = sac.get_nonrandom()\n",
    "for i in range(sac.ncomps):\n",
    "    theta_i = sac.theta[i]\n",
    "    seg_gamma_i = sac.seg_gamma[i]\n",
    "\n",
    "    for j in range(sac.ncomps):\n",
    "        theta_j = sac.theta[j]\n",
    "        seg_gamma_j = sac.seg_gamma[j]\n",
    "\n",
    "        psi_ij = sac.psi[i][j]\n",
    "\n",
    "        print(f\"Compounds: {i+1}-{j+1}\")\n",
    "\n",
    "        for m in range(len(theta_i)):\n",
    "            for n in range(len(theta_j)):\n",
    "                alpha = seg_gamma_i[m] * seg_gamma_j[n] * psi_ij[m][n]\n",
    "                si = -nu/2 * theta_i[m]*theta_j[n] * alpha * (math.log(alpha)) * RGAS_SI*T\n",
    "\n",
    "                print(f\"segments {m+1}-{n+1}: {si}\")"
   ]
  }
 ],
 "metadata": {
  "kernelspec": {
   "display_name": "Python 3.8.10 64-bit",
   "language": "python",
   "name": "python3"
  },
  "language_info": {
   "codemirror_mode": {
    "name": "ipython",
    "version": 3
   },
   "file_extension": ".py",
   "mimetype": "text/x-python",
   "name": "python",
   "nbconvert_exporter": "python",
   "pygments_lexer": "ipython3",
   "version": "3.10.12"
  },
  "vscode": {
   "interpreter": {
    "hash": "916dbcbb3f70747c44a77c7bcd40155683ae19c65e1c03b4aa3499c5328201f1"
   }
  }
 },
 "nbformat": 4,
 "nbformat_minor": 5
}
