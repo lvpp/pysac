{
 "cells": [
  {
   "cell_type": "markdown",
   "id": "7bbf254d",
   "metadata": {},
   "source": [
    "# Pair probabilities for a symmetric mixture\n",
    "\n",
    "In this document we compare the results from our SAC equations with the ones obtained with classic models.\n",
    "\n",
    "We start by importing the necessary packages."
   ]
  },
  {
   "cell_type": "code",
   "execution_count": 13,
   "id": "3f57911f",
   "metadata": {},
   "outputs": [],
   "source": [
    "import math, os, sys\n",
    "import matplotlib.pyplot as plt\n",
    "import pandas as pd\n",
    "\n",
    "parent_directory = os.path.dirname(os.path.abspath('.'))\n",
    "sys.path.append(parent_directory)\n",
    "\n",
    "from pysac import SAC, RGAS"
   ]
  },
  {
   "cell_type": "markdown",
   "id": "2c848bfd",
   "metadata": {},
   "source": [
    "### Compound definitions\n",
    "\n",
    "For the symmetric case, we set both compounds as having an unitary area such that area fractions match molar fractions. Additionally, in order to compare the results with the cubic lattice system we need to set `Q_eff = 1/z`.\n"
   ]
  },
  {
   "cell_type": "code",
   "execution_count": 14,
   "id": "ef2e3471",
   "metadata": {},
   "outputs": [],
   "source": [
    "Q_1   = [1]\n",
    "Q_2   = [1]\n",
    "\n",
    "z = 6\n",
    "Q_eff = 1/z\n",
    "\n",
    "# The mixture area\n",
    "Q = [Q_1, Q_2]"
   ]
  },
  {
   "cell_type": "markdown",
   "id": "8b473c56",
   "metadata": {},
   "source": [
    "## Interaction energies\n",
    "\n",
    "Here we study the case of a strongly non-ideal mixture, where the first compound (0-0) interaction is strongly attractive when compared to the others:"
   ]
  },
  {
   "cell_type": "code",
   "execution_count": 15,
   "id": "879b371a",
   "metadata": {},
   "outputs": [],
   "source": [
    "class MonomerStronglyNonIdeal(SAC):\n",
    "    def __init__(self):\n",
    "        super().__init__(Q_eff=Q_eff)\n",
    "\n",
    "    def calc_u(self, T, i, j, m, n):\n",
    "        if i == 0 and j == 0:\n",
    "            return -0.65 * RGAS * self.T\n",
    "        if i == 1 and j == 1:\n",
    "            return -0.1 * RGAS * self.T\n",
    "        \n",
    "        return -0.2 * RGAS * self.T\n",
    "\n",
    "# Create an instance of our F-SAC class\n",
    "sac = MonomerStronglyNonIdeal()\n",
    "\n",
    "# Set a temperature, actually the way we define the energies, any temperature\n",
    "# would produce the same results\n",
    "T = 300\n",
    "sac.set_compounds(Q)\n",
    "sac.set_temperature(T)"
   ]
  },
  {
   "cell_type": "markdown",
   "id": "09927e6d",
   "metadata": {},
   "source": [
    "Now we compare the `Gamma_2/Gamma1` quotient for different models. For UNIQUAC this quotient is always 1 while for the NRTL model it is a constant different from 1."
   ]
  },
  {
   "cell_type": "code",
   "execution_count": 16,
   "id": "6d008cdf",
   "metadata": {},
   "outputs": [
    {
     "data": {
      "image/png": "[encoded data removed]",
      "text/plain": [
       "<Figure size 432x288 with 1 Axes>"
      ]
     },
     "metadata": {
      "needs_background": "light"
     },
     "output_type": "display_data"
    }
   ],
   "source": [
    "N = 51\n",
    "ue_pw = []\n",
    "ae_pw = []\n",
    "\n",
    "gamma2_gamma1 = []\n",
    "gamma2_gamma1_wilson = []\n",
    "gamma2_gamma1_nrtl = []\n",
    "x1 = []\n",
    "alpha = 0.3\n",
    "\n",
    "for l in range(N):\n",
    "    x1_ = l/(N-1)\n",
    "    x1.append(x1_)\n",
    "\n",
    "    x = [x1_, 1-x1_]\n",
    "    \n",
    "    sac.set_composition(x)\n",
    "    sac.calc_ln_gamma()\n",
    "\n",
    "    gamma2_gamma1.append(sac.seg_gamma[1][0]/sac.seg_gamma[0][0])\n",
    "    gamma2_gamma1_wilson.append(1)\n",
    "    gamma2_gamma1_nrtl.append(math.pow(sac.psi[0][0][0][0]/sac.psi[0][1][0][0], 1-alpha))\n",
    "\n",
    "\n",
    "plt.plot(x1, gamma2_gamma1, 'k-', label='SAC')\n",
    "plt.plot(x1, gamma2_gamma1_nrtl, 'k--', label='NRTL')\n",
    "plt.plot(x1, gamma2_gamma1_wilson, 'k:', label='Wilson')\n",
    "\n",
    "plt.xlabel(r'$x_1$')\n",
    "plt.ylabel(r'$\\Gamma_2/\\Gamma_1$')\n",
    "plt.legend(loc='upper left')\n",
    "plt.xlim([0, 1])\n",
    "plt.ylim([0.9, 1.6])\n",
    "\n",
    "plt.rcParams.update({'font.size': 14})\n",
    "plt.plot()\n",
    "plt.savefig('pdf/prob-symmetric.pdf')"
   ]
  }
 ],
 "metadata": {
  "kernelspec": {
   "display_name": "Python 3.8.10 64-bit",
   "language": "python",
   "name": "python3"
  },
  "language_info": {
   "codemirror_mode": {
    "name": "ipython",
    "version": 3
   },
   "file_extension": ".py",
   "mimetype": "text/x-python",
   "name": "python",
   "nbconvert_exporter": "python",
   "pygments_lexer": "ipython3",
   "version": "3.8.10"
  },
  "vscode": {
   "interpreter": {
    "hash": "916dbcbb3f70747c44a77c7bcd40155683ae19c65e1c03b4aa3499c5328201f1"
   }
  }
 },
 "nbformat": 4,
 "nbformat_minor": 5
}
