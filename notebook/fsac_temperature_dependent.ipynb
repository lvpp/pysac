{
 "cells": [
  {
   "cell_type": "markdown",
   "id": "7bbf254d",
   "metadata": {},
   "source": [
    "# Excess Gibbs and enthalpy with F-SAC+f(T)\n",
    "\n",
    "In this notebook, we use our SAC equations as the basis for F-SAC calculations for the case of\n",
    "**temperature dependent** interaction energies.\n",
    "\n",
    "For a simpler example, please check the [fsac_energies notebook](./fsac_energies.ipynb).\n",
    "\n",
    "The F-SAC model uses the exact same SAC equations but with the compound segments defined by a group\n",
    "contribution method and interaction among groups as in the COSMO-SAC/RS models.\n",
    "\n",
    "The basic literature is:\n",
    " - [Functional-Segment Activity Coefficient model. 1. Model formulation](http://dx.doi.org/10.1021/ie400170a). Industrial & Engineering Chemistry Research, v. 52, p. 11159-11171, 2013.\n",
    " - [Functional-Segment Activity Coefficient model. 2. Associating mixtures](http://dx.doi.org/10.1021/ie4013979). Industrial & Engineering Chemistry Research, v. 52, p. 11172-11181, 2013.\n",
    "\n",
    "We start by importing the necessary packages."
   ]
  },
  {
   "cell_type": "code",
   "execution_count": 1,
   "id": "3f57911f",
   "metadata": {},
   "outputs": [],
   "source": [
    "import math\n",
    "import os\n",
    "import sys\n",
    "import matplotlib.pyplot as plt\n",
    "import pandas as pd\n",
    "\n",
    "parent_directory = os.path.dirname(os.path.abspath('.'))\n",
    "sys.path.append(parent_directory)\n",
    "\n",
    "from pysac import SAC\n",
    "from pysac import RGAS"
   ]
  },
  {
   "cell_type": "markdown",
   "id": "2c848bfd",
   "metadata": {},
   "source": [
    "### Compound definitions\n",
    "\n",
    "In F-SAC, compounds are defined with just a few surface areas and their respective charge densities.\n",
    "\n",
    "Linear hydrocarbons are all neutral and polar compounds have a neutral, positive, and negative portions.\n",
    "\n",
    "For **acetone**, our first compound, we have three segment types, neutral, positive, and negative. While **n-hexane** can be represented by a single segment type, all neutral."
   ]
  },
  {
   "cell_type": "code",
   "execution_count": 2,
   "id": "ef2e3471",
   "metadata": {},
   "outputs": [],
   "source": [
    "sigma_1 = [0.0]\n",
    "Q_1     = [191.93]\n",
    "\n",
    "sigma_2 = [0,      0.0132, -0.00363]\n",
    "Q_2     = [20.167, 21.97,  80.23]"
   ]
  },
  {
   "cell_type": "markdown",
   "id": "8b473c56",
   "metadata": {},
   "source": [
    "## F-SAC implementation\n",
    "\n",
    "Now we derive our general SAC equations to work as a F-SAC implementation by deriving the basic `SAC` class and implementing the method calculating the interaction energies, `calc_u`.\n",
    "\n",
    "In this example, we use **temperature dependent** interaction energies by the following multiplying factor:\n",
    "\\begin{equation}\n",
    "f(T) = \\exp \\left (-\\beta \\frac{T-T_0}{1000 \\cdot \\text{K}} \\right )\n",
    "\\end{equation}\n",
    "\n",
    "This function returns 1 when $T=T_0$, being an exponential decay with the temperature."
   ]
  },
  {
   "cell_type": "code",
   "execution_count": 3,
   "id": "879b371a",
   "metadata": {},
   "outputs": [],
   "source": [
    "# F-SAC parameters\n",
    "alpha = 8544.6\n",
    "Q_eff = 3.597\n",
    "\n",
    "# The mixture area and sigma arrays\n",
    "Q = [Q_1, Q_2]\n",
    "sigma = [sigma_1, sigma_2]\n",
    "\n",
    "T0 = 308.15\n",
    "beta = 1\n",
    "\n",
    "class FSACNonHB(SAC):\n",
    "    def __init__(self):\n",
    "        super().__init__(Q_eff=Q_eff)\n",
    "\n",
    "    def calc_u(self, T, i, j, m, n):\n",
    "        '''\n",
    "        Interaction energies, only the electrostatic contribution (no hydrogen bonding)\n",
    "        and temperature dependent.\n",
    "        '''\n",
    "        f = math.exp(-beta * (T - T0)/1000)\n",
    "        return f*(alpha/2)*(sigma[i][m]+sigma[j][n])**2\n",
    "    \n",
    "    def calc_du_dT(self, T, i, j, m, n):\n",
    "        '''\n",
    "        Returns the derivative of the interaction energy.\n",
    "        '''\n",
    "        f = math.exp(-beta * (T - T0)/1000)\n",
    "        u = self.calc_u(T, i, j, m, n)\n",
    "        \n",
    "        return -beta/1000 * u * f\n",
    "\n",
    "\n",
    "# Create an instance of our F-SAC class\n",
    "sac = FSACNonHB()\n",
    "\n",
    "# Set a temperature and the areas of our compounds\n",
    "T = T0\n",
    "sac.set_compounds(Q)\n",
    "sac.set_temperature(T)"
   ]
  },
  {
   "cell_type": "markdown",
   "id": "20b105e6",
   "metadata": {},
   "source": [
    "### Excess properties\n",
    "\n",
    "Here we compare the F-SAC Gibbs excess energy and enthalpy with experimental data at 308.15 K.\n",
    "We are disregarding any combinatorial comtribution in this example, since the molecules have similar size and shape.\n",
    "\n",
    "Gibbs excess experimental data comes from *Zh. Prikl. Khim, 36, p 1471, 1963* vapor-liquid equilibria data, assuming the Raoult's law is valid.\n",
    "For the excess enthalpy, experimental data comes form [Singh et al., 1990](https://doi.org/10.1016/0040-6031(90)80350-8)."
   ]
  },
  {
   "cell_type": "code",
   "execution_count": 5,
   "id": "accaa9bb",
   "metadata": {},
   "outputs": [
    {
     "data": {
      "image/png": "[encoded data removed]",
      "text/plain": [
       "<Figure size 432x288 with 1 Axes>"
      ]
     },
     "metadata": {
      "needs_background": "light"
     },
     "output_type": "display_data"
    }
   ],
   "source": [
    "x1_ge_exp = [0.094, 0.1951, 0.3005, 0.4004, 0.5055, 0.6083, 0.7055, 0.8098, 0.9138]\n",
    "ge_exp = [0.1597, 0.2847, 0.3691, 0.4151, 0.4371, 0.4144, 0.3740, 0.2971, 0.1747]\n",
    "\n",
    "x1_he_exp = [0.0958, 0.0995, 0.1931, 0.2191, 0.2229, 0.3651, 0.3655, 0.3831, 0.388, 0.5551, 0.5651, 0.6219, 0.7677, 0.7713, 0.8714]\n",
    "he_exp = [0.2302, 0.2353, 0.4137, 0.4570, 0.4625, 0.6330, 0.6358, 0.6475, 0.6510, 0.7123, 0.7119, 0.6947, 0.5581, 0.5554, 0.3680]\n",
    "\n",
    "N = 51\n",
    "ue = []\n",
    "ae = []\n",
    "\n",
    "x1 = []\n",
    "\n",
    "beta = 1\n",
    "for l in range(N):\n",
    "    x1_ = l/(N-1)\n",
    "    x1.append(x1_)\n",
    "\n",
    "    x = [x1_, 1-x1_]\n",
    "    \n",
    "    sac.set_composition(x)\n",
    "    sac.calc_ln_gamma()\n",
    "\n",
    "    ae_ = sac.get_helmholtz()\n",
    "    ue_ = sac.get_energy()\n",
    "\n",
    "    # subtract the pure compound energies\n",
    "    for i in range(len(x)):\n",
    "        ue_ -= x[i]*sac.get_energy_pure(i)\n",
    "        ae_ -= x[i]*sac.get_helmholtz_pure(i)\n",
    "    \n",
    "    ae.append(ae_)\n",
    "    ue.append(ue_)\n",
    "\n",
    "beta = 0\n",
    "ue0 = []\n",
    "for l in range(N):\n",
    "    x1_ = l/(N-1)\n",
    "    x = [x1_, 1-x1_]\n",
    "    \n",
    "    sac.set_composition(x)\n",
    "    sac.calc_ln_gamma()\n",
    "\n",
    "    ue_ = sac.get_energy()\n",
    "\n",
    "    # subtract the pure compound energies\n",
    "    for i in range(len(x)):\n",
    "        ue_ -= x[i]*sac.get_energy_pure(i)\n",
    "    \n",
    "    ue0.append(ue_)\n",
    "\n",
    "plt.plot(x1_ge_exp, ge_exp, 'ko', label=r'$g$ exp.')\n",
    "plt.plot(x1_he_exp, he_exp, 'k^', label=r'$h$ exp.')\n",
    "plt.plot(x1, ae, 'k-', label=r'$g$ F-SAC')\n",
    "plt.plot(x1, ue0, 'k:', label=r'$h$ F-SAC, $\\beta=0$')\n",
    "plt.plot(x1, ue, 'k--', label=r'$h$ F-SAC, $\\beta=1$')\n",
    "\n",
    "plt.legend(loc='upper left')\n",
    "plt.xlabel(r'$x_1$')\n",
    "plt.ylabel(r'excess property/RT')\n",
    "plt.xlim([0, 1])\n",
    "plt.ylim([0, 0.8])\n",
    "\n",
    "plt.plot()\n",
    "plt.savefig('pdf/f-sac-excess.pdf')"
   ]
  },
  {
   "cell_type": "markdown",
   "id": "94459cdf",
   "metadata": {},
   "source": [
    "From the results above, we can see F-SAC can represent very well the Gibbs excess energy for this case.\n",
    "If interaction energies are temperature independent ($\\beta=0$), then the excess enthalpy is underpredicted.\n",
    "When temperature dependent interaction energies are used ($\\beta=1$), there is very good agreement between\n",
    "calculated excess enthalpies and experimental data.\n",
    "\n",
    "For this case, Gibbs excess would be the same for any $\\beta$, since our reference temperature $T_0$ is exactly the temperature of the experimental, making the multiplying factor $f(T=T_0) = 1$ but $\n",
    "\\partial f/ \\partial T \\neq 0$."
   ]
  }
 ],
 "metadata": {
  "kernelspec": {
   "display_name": "Python 3.8.10 64-bit",
   "language": "python",
   "name": "python3"
  },
  "language_info": {
   "codemirror_mode": {
    "name": "ipython",
    "version": 3
   },
   "file_extension": ".py",
   "mimetype": "text/x-python",
   "name": "python",
   "nbconvert_exporter": "python",
   "pygments_lexer": "ipython3",
   "version": "3.8.10"
  },
  "vscode": {
   "interpreter": {
    "hash": "916dbcbb3f70747c44a77c7bcd40155683ae19c65e1c03b4aa3499c5328201f1"
   }
  }
 },
 "nbformat": 4,
 "nbformat_minor": 5
}
