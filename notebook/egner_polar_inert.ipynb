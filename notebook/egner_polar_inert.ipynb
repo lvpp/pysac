{
 "cells": [
  {
   "attachments": {},
   "cell_type": "markdown",
   "id": "7bbf254d",
   "metadata": {},
   "source": [
    "# Excess properties for a polar-inert mixture\n",
    "\n",
    "In this document we compare excess properties calculated by our `SAC` implementation for a polar-inert system. The pair interaction energies are the same as given by [Egner et al. (1997)](https://doi.org/10.1002/bbpc.19971010208). These energies are set to make the system behave similarly to the acetone/-n-heptane mixture.\n",
    "\n",
    "We start by importing the necessary packages."
   ]
  },
  {
   "cell_type": "code",
   "execution_count": 1,
   "id": "3f57911f",
   "metadata": {},
   "outputs": [],
   "source": [
    "import math, os, sys\n",
    "import matplotlib.pyplot as plt\n",
    "import pandas as pd\n",
    "\n",
    "parent_directory = os.path.dirname(os.path.abspath('.'))\n",
    "sys.path.append(parent_directory)\n",
    "\n",
    "from pysac import SAC, RGAS, RGAS_SI, DEFAULT_Q_EFF"
   ]
  },
  {
   "attachments": {},
   "cell_type": "markdown",
   "id": "2c848bfd",
   "metadata": {},
   "source": [
    "## Compound definitions\n",
    "\n",
    "Ther original article considered a simple-cubic lattice (z = 6). Then, in order to compare the results with the cubic lattice system we need to set the areas with 6 segments each.\n"
   ]
  },
  {
   "cell_type": "code",
   "execution_count": 2,
   "id": "ef2e3471",
   "metadata": {},
   "outputs": [],
   "source": [
    "Q_eff = DEFAULT_Q_EFF;\n",
    "Q_1   = [3*Q_eff, 3*Q_eff]\n",
    "Q_2   = [6*Q_eff]\n",
    "\n",
    "# The mixture area\n",
    "Q = [Q_1, Q_2]\n",
    "nu = 6"
   ]
  },
  {
   "attachments": {},
   "cell_type": "markdown",
   "id": "8b473c56",
   "metadata": {},
   "source": [
    "## Interaction energies\n",
    "\n",
    "It is assumed that the polar compound has two types of segments: interaction between segment types 1 and 2 is attractive; between 1 and 1 or 2 and 2 is repulsive. The interaction energies with the inert compound segments are always zero."
   ]
  },
  {
   "cell_type": "code",
   "execution_count": 3,
   "id": "879b371a",
   "metadata": {},
   "outputs": [],
   "source": [
    "T0 = 300\n",
    "\n",
    "class EgnerPolarInert(SAC):\n",
    "    def __init__(self):\n",
    "        super().__init__(Q_eff=Q_eff, tol=1e-10)\n",
    "\n",
    "    # Interaction energies according to Table 3 of the original article\n",
    "    def calc_u(self, T, i, j, m, n):\n",
    "        if i == 1 or j == 1:\n",
    "            # no interaction with inert compound\n",
    "            return 0\n",
    "        if (m == n):\n",
    "            # e11 and e22\n",
    "            return 340 * RGAS\n",
    "        \n",
    "        # e12 and e21\n",
    "        return -340 * RGAS\n",
    "\n",
    "# Create an instance of our SAC class\n",
    "sac = EgnerPolarInert()\n",
    "\n",
    "# Set a temperature, we use the reference `T0` so we get the same\n",
    "# results as in the original work.\n",
    "T = T0\n",
    "sac.set_compounds(Q)\n",
    "sac.set_temperature(T)"
   ]
  },
  {
   "attachments": {},
   "cell_type": "markdown",
   "id": "b1d62130",
   "metadata": {},
   "source": [
    "## Excess properties\n",
    "\n",
    "Here we calculate the excess properties on multiple compositions and compare our results with Monte-Carlo simulations from the original article."
   ]
  },
  {
   "cell_type": "code",
   "execution_count": 4,
   "id": "6d008cdf",
   "metadata": {},
   "outputs": [
    {
     "data": {
      "image/png": "[encoded data removed]",
      "text/plain": [
       "<Figure size 432x288 with 1 Axes>"
      ]
     },
     "metadata": {
      "needs_background": "light"
     },
     "output_type": "display_data"
    }
   ],
   "source": [
    "N = 51\n",
    "ue = []\n",
    "ae = []\n",
    "tse = []\n",
    "\n",
    "# Monte-Carlo data from Fig. 6 (image recognition) of the original work\n",
    "x1_exp = [0.05, 0.1, 0.2, 0.3, 0.4, 0.5, 0.6, 0.7, 0.8, 0.9, 0.95]\n",
    "ge_exp = [189, 362.4, 625.9, 819.7, 923.6, 965.4, 930.6, 819.8, 639.8, 369.4, 195.9]\n",
    "he_exp = [320.7, 598.1, 1021.1, 1298, 1462, 1519.7, 1462, 1307.9, 1038.5, 606, 336.6]\n",
    "tse_exp = [133.78, 230.73, 390.3, 487.2, 528.5, 556.3, 535.4, 487.2, 403.7, 230.7, 133.8]\n",
    "\n",
    "x1 = []\n",
    "\n",
    "for l in range(N):\n",
    "    x1_ = l/(N-1)\n",
    "    x1.append(x1_)\n",
    "\n",
    "    x = [x1_, 1-x1_]\n",
    "    \n",
    "    sac.set_composition(x)\n",
    "    sac.calc_ln_gamma()\n",
    "\n",
    "    ae_ = sac.get_helmholtz()\n",
    "    #print(ae_ - sac.get_helmholtz2())\n",
    "    ue_ = sac.get_energy()\n",
    "    se_ = sac.get_entropy()\n",
    "\n",
    "    # subtract the pure compound energies to get the excess\n",
    "    for i in range(len(x)):\n",
    "        ue_ -= x[i]*sac.get_energy_pure(i)\n",
    "        ae_ -= x[i]*sac.get_helmholtz_pure(i)\n",
    "        se_ -= x[i]*sac.get_entropy_pure(i)\n",
    "    \n",
    "    ae.append(ae_ * RGAS_SI * T)\n",
    "    ue.append(ue_ * RGAS_SI * T)\n",
    "    #tse.append((ue_ - ae_) * RGAS_SI * T)\n",
    "    tse.append(se_ * RGAS_SI * T)\n",
    "\n",
    "    #print(se_ - (ue_ - ae_))\n",
    "\n",
    "plt.plot(x1_exp, ge_exp, 'ks')\n",
    "plt.plot(x1_exp, he_exp, 'rs')\n",
    "plt.plot(x1_exp, tse_exp, 'bs')\n",
    "plt.plot(x1, ae, 'k-', label=r'$a$')\n",
    "plt.plot(x1, ue, 'r-', label=r'$u$')\n",
    "plt.plot(x1, tse, 'b-', label=r'$Ts$')\n",
    "\n",
    "plt.legend(loc='upper right')\n",
    "plt.xlabel(r'$x_1$')\n",
    "plt.ylabel(r'excess property [J/mol]')\n",
    "plt.xlim([0, 1])\n",
    "plt.ylim([0, 1750])\n",
    "#plt.ylim([-0.6, 0.6])\n",
    "\n",
    "plt.rcParams.update({'font.size': 16})\n",
    "plt.tight_layout()\n",
    "plt.plot()\n",
    "plt.savefig('pdf/egner_polar_inert.pdf')"
   ]
  },
  {
   "cell_type": "markdown",
   "id": "b79db323",
   "metadata": {},
   "source": [
    "## Explaining the positive excess entropy\n",
    "\n",
    "Preferential contacts generate negative contributions to the residual entropy.\n",
    "\n",
    "For the present case, the polar compound has a higher order (nonrandomness) when pure than when in mixture. Compound 2 has no preferential interactions when pure, so zero residual entropy."
   ]
  },
  {
   "cell_type": "code",
   "execution_count": 5,
   "id": "d188ce81",
   "metadata": {},
   "outputs": [
    {
     "name": "stdout",
     "output_type": "stream",
     "text": [
      "0.5 mol of pure compound 1, T*s [J]:  -1427.8685181170763\n",
      "0.5 of pure compound 2, T*s [J]:  0.0\n",
      "Equimolar mixture, T*s [J/mol]:  -876.8056302184567\n",
      "Equimolar mixture excess, T*s [J/mol]:  551.0628878986196\n"
     ]
    }
   ],
   "source": [
    "x = [0.5, 0.5]\n",
    "sac.set_composition(x)\n",
    "sac.calc_ln_gamma()\n",
    "\n",
    "print(\"0.5 mol of pure compound 1, T*s [J]: \", x[0]*sac.get_entropy_pure(0) * RGAS_SI*T)\n",
    "print(\"0.5 of pure compound 2, T*s [J]: \", x[1]*sac.get_entropy_pure(1) * RGAS_SI*T)\n",
    "print(\"Equimolar mixture, T*s [J/mol]: \", sac.get_entropy() * RGAS_SI*T)\n",
    "print(\"Equimolar mixture excess, T*s [J/mol]: \", (sac.get_entropy()-x[0]*sac.get_entropy_pure(0)-x[1]*sac.get_entropy_pure(1)) * RGAS_SI*T)"
   ]
  },
  {
   "cell_type": "markdown",
   "id": "c99fceb6",
   "metadata": {},
   "source": [
    "### Pair contact entropy contributions for pure compound 1\n",
    "\n",
    "We can investigate the *order* using the individual contributions to the residual entropy of every pair contact in mixture.\n",
    "\n",
    "When pure, compound 1 has a preferential (attractive) contact between segments 1-2. This generates a strong negative residual entropy contribution for the pairs (1-2 and 2-1)."
   ]
  },
  {
   "cell_type": "code",
   "execution_count": 6,
   "id": "a10ea49d",
   "metadata": {},
   "outputs": [
    {
     "name": "stdout",
     "output_type": "stream",
     "text": [
      "Entropy terms (times T) for 0.5 mols of pure compound 1 [J]:\n",
      "segments 1-1: 293.8032823224299\n",
      "segments 1-2: -1007.737532539546\n",
      "segments 2-1: -1007.737532539546\n",
      "segments 2-2: 293.8032646395858\n"
     ]
    }
   ],
   "source": [
    "print(\"Entropy terms (times T) for 0.5 mols of pure compound 1 [J]:\")\n",
    "i = j = 0\n",
    "alpha = sac.get_nonrandom_pure(i)\n",
    "theta_i = sac.theta_pure[i]\n",
    "seg_gamma_i = sac.seg_gamma_pure[i]\n",
    "theta_j = sac.theta_pure[j]\n",
    "seg_gamma_j = sac.seg_gamma_pure[j]\n",
    "psi_ij = sac.psi[i][j]\n",
    "for m in range(len(theta_i)):\n",
    "    for n in range(len(theta_j)):\n",
    "        alpha_mn = seg_gamma_i[m] * seg_gamma_j[n] * psi_ij[m][n]\n",
    "        si = -nu/2 * theta_i[m]*theta_j[n] * alpha_mn * (math.log(alpha_mn)) * RGAS_SI*T\n",
    "\n",
    "        print(f\"segments {m+1}-{n+1}: {x[0]*si}\")"
   ]
  },
  {
   "cell_type": "markdown",
   "id": "f04e749f",
   "metadata": {},
   "source": [
    "### Pair contact entropy contributions for an equimolar mixture\n",
    "\n",
    "When in an equimolar mixture with an inert compound, the preferential compound 1 contacts (1-2 and 2-1)\n",
    "become less likely and their negative residual entropy contribution is reduced. This, along with other smaller positive contributions for contacts with compound 2, lead to a positive excess entropy.\n",
    "\n",
    "Note the preferential contact between neutral segments of compound 2. This produces a negative contribution to the miture residual entropy, but still not enough to make the excess entropy negative."
   ]
  },
  {
   "cell_type": "code",
   "execution_count": 7,
   "id": "bf192fd6",
   "metadata": {},
   "outputs": [
    {
     "name": "stdout",
     "output_type": "stream",
     "text": [
      "\n",
      "Entropy terms (times T) for 0.5 mols of each compound [J]:\n",
      "Compounds: 1-1\n",
      "segments 1-1: 154.05355397190132\n",
      "segments 1-2: -692.0927456159067\n",
      "segments 2-1: -692.0927456159067\n",
      "segments 2-2: 154.05355483558998\n",
      "Compounds: 1-2\n",
      "segments 1-1: 116.45616731233804\n",
      "segments 2-1: 116.45616180960346\n",
      "Compounds: 2-1\n",
      "segments 1-1: 116.45616731233804\n",
      "segments 1-2: 116.45616180960346\n",
      "Compounds: 2-2\n",
      "segments 1-1: -266.55190603801753\n"
     ]
    }
   ],
   "source": [
    "print(\"\\nEntropy terms (times T) for 0.5 mols of each compound [J]:\")\n",
    "for i in range(sac.ncomps):\n",
    "    theta_i = sac.theta[i]\n",
    "    seg_gamma_i = sac.seg_gamma[i]\n",
    "\n",
    "    for j in range(sac.ncomps):\n",
    "        theta_j = sac.theta[j]\n",
    "        seg_gamma_j = sac.seg_gamma[j]\n",
    "\n",
    "        psi_ij = sac.psi[i][j]\n",
    "\n",
    "        print(f\"Compounds: {i+1}-{j+1}\")\n",
    "\n",
    "        for m in range(len(theta_i)):\n",
    "            for n in range(len(theta_j)):\n",
    "                alpha = seg_gamma_i[m] * seg_gamma_j[n] * psi_ij[m][n]\n",
    "                si = -nu/2 * theta_i[m]*theta_j[n] * alpha * (math.log(alpha)) * RGAS_SI*T\n",
    "\n",
    "                print(f\"segments {m+1}-{n+1}: {si}\")\n"
   ]
  }
 ],
 "metadata": {
  "kernelspec": {
   "display_name": "Python 3.8.10 64-bit",
   "language": "python",
   "name": "python3"
  },
  "language_info": {
   "codemirror_mode": {
    "name": "ipython",
    "version": 3
   },
   "file_extension": ".py",
   "mimetype": "text/x-python",
   "name": "python",
   "nbconvert_exporter": "python",
   "pygments_lexer": "ipython3",
   "version": "3.8.10"
  },
  "vscode": {
   "interpreter": {
    "hash": "916dbcbb3f70747c44a77c7bcd40155683ae19c65e1c03b4aa3499c5328201f1"
   }
  }
 },
 "nbformat": 4,
 "nbformat_minor": 5
}
